{
 "cells": [
  {
   "cell_type": "markdown",
   "id": "dd21efe9",
   "metadata": {},
   "source": [
    "# Assignment 5\n",
    "### Do all four questions."
   ]
  },
  {
   "cell_type": "markdown",
   "id": "d3746237",
   "metadata": {},
   "source": [
    "### Names: Erin Siedlecki, Shaveen Saadee, Anna Li, Emily Garman, Razan Habboub, Marissa Burton"
   ]
  },
  {
   "cell_type": "markdown",
   "id": "1ee9b4e8",
   "metadata": {},
   "source": [
    "**1.** Let's review some basic matrix multiplication. When you have an $M \\times N$ matrix $A$ with $M$ rows and $N$ columns, \n",
    "$$\n",
    "A= \\left[ \\begin{array}{cccc} a_{11} & a_{12} & ... & a_{1N} \\\\\n",
    "a_{21} & a_{22} & ... & a_{2N} \\\\\n",
    "\\vdots & \\vdots & ... & \\vdots \\\\\n",
    "a_{M1} & a_{M2} & ... & a_{MN} \n",
    "\\end{array} \\right],\n",
    "$$\n",
    "and you right-multiply it by a vector\n",
    "$$\n",
    "x = \\left[ \\begin{array}{c} x_1 \\\\ x_2 \\\\ \\vdots \\\\ x_N \n",
    "\\end{array} \\right],\n",
    "$$\n",
    "you get\n",
    "$$\n",
    "Ax = \\left[ \\begin{array}{c} \\sum_{i=1}^N a_{1i} x_i \\\\ \\sum_{i=1}^N a_{2i} x_i \\\\ \\vdots \\\\ \\sum_{i=1}^N a_{Mi} x_i \n",
    "\\end{array} \\right].\n",
    "$$\n",
    "This is just \"matrix row times column vector\" element-by-element, stacking the results into a new vector.\n",
    "\n",
    "For this to make sense, $N$ must be the same for the matrix and the vector, but $M$ can be different from $N$. \n",
    "\n",
    "Let's play with some NumPy to see this. First we'll define a matrix $A$:"
   ]
  },
  {
   "cell_type": "code",
   "execution_count": 19,
   "id": "33df3579",
   "metadata": {},
   "outputs": [
    {
     "data": {
      "text/plain": [
       "array([[1, 2, 3],\n",
       "       [4, 5, 6],\n",
       "       [7, 8, 9]])"
      ]
     },
     "execution_count": 19,
     "metadata": {},
     "output_type": "execute_result"
    }
   ],
   "source": [
    "import numpy as np\n",
    "\n",
    "A = np.array([ [1,2,3],\n",
    "              [4,5,6],\n",
    "              [7,8,9]])\n",
    "A"
   ]
  },
  {
   "cell_type": "markdown",
   "id": "94b1b3ac",
   "metadata": {},
   "source": [
    "a. Multiply $A$ times each of the following vectors using the @ operator. Explain which part of the $A$ matrix gets selected and explain why, using the definition of matrix multiplication. "
   ]
  },
  {
   "cell_type": "code",
   "execution_count": 20,
   "id": "5b6148d2",
   "metadata": {},
   "outputs": [],
   "source": [
    "e_1 = np.array([1,0,0])\n",
    "e_2 = np.array([0,1,0])\n",
    "e_3 = np.array([0,0,1])"
   ]
  },
  {
   "cell_type": "code",
   "execution_count": 21,
   "id": "f6b23f44",
   "metadata": {},
   "outputs": [
    {
     "data": {
      "text/plain": [
       "array([1, 4, 7])"
      ]
     },
     "execution_count": 21,
     "metadata": {},
     "output_type": "execute_result"
    }
   ],
   "source": [
    "A@e_1"
   ]
  },
  {
   "cell_type": "markdown",
   "id": "9ff8f907",
   "metadata": {},
   "source": [
    "When multiplying A by [1,0,0], we multiply the first column of A by 1, the second column of A by 0, and the third column of A by 0 and add the results of each row. Because the second and third columns of A are multiplied by 0, their results are 0, so 0 will be added to each row in the first column of A, which just returns the first column of A. Thus, our final answer is just the first column of A, which is [1,4,7]."
   ]
  },
  {
   "cell_type": "code",
   "execution_count": 22,
   "id": "4ee1f340",
   "metadata": {},
   "outputs": [
    {
     "data": {
      "text/plain": [
       "array([2, 5, 8])"
      ]
     },
     "execution_count": 22,
     "metadata": {},
     "output_type": "execute_result"
    }
   ],
   "source": [
    "A@e_2"
   ]
  },
  {
   "cell_type": "markdown",
   "id": "d356c020",
   "metadata": {},
   "source": [
    "Similar to the last multiplication, when multiplying A by [0,1, 0], we multiply the first column of A by 0, the second column of A by 1, and the third column of A by 0 and add the results of each row. Because the first and third columns of A are multiplied by 0, their results are 0, so 0 will be added to each row in the second column of A, which just returns the second column of A. Thus, our final answer is just the second column of A, which is [2,5,8]."
   ]
  },
  {
   "cell_type": "code",
   "execution_count": 23,
   "id": "6f1163f1",
   "metadata": {},
   "outputs": [
    {
     "data": {
      "text/plain": [
       "array([3, 6, 9])"
      ]
     },
     "execution_count": 23,
     "metadata": {},
     "output_type": "execute_result"
    }
   ],
   "source": [
    "A@e_3"
   ]
  },
  {
   "cell_type": "markdown",
   "id": "97fe9346",
   "metadata": {},
   "source": [
    "As we saw with the other two multiplications, when multiplying A by [0,0,1], we multiply the first column of A by 0, the second column of A by 0, and the third column of A by 1 and add the results of each row. Because the first and second columns of A are multiplied by 0, their results are 0, so 0 will be added to each row in the third column of A, which just returns the third column of A. Thus, our final answer is just the third column of A, which is [3,6,9]."
   ]
  },
  {
   "cell_type": "markdown",
   "id": "72a4704e",
   "metadata": {},
   "source": [
    "b. Now multiply $A$ times $u = (1,1,1)$. Explain the logic of the result with the definition of matrix multiplication."
   ]
  },
  {
   "cell_type": "code",
   "execution_count": 24,
   "id": "5bf73f9b",
   "metadata": {},
   "outputs": [],
   "source": [
    "u = np.ones(3)"
   ]
  },
  {
   "cell_type": "code",
   "execution_count": 25,
   "id": "c6ed2d14",
   "metadata": {},
   "outputs": [
    {
     "data": {
      "text/plain": [
       "array([ 6., 15., 24.])"
      ]
     },
     "execution_count": 25,
     "metadata": {},
     "output_type": "execute_result"
    }
   ],
   "source": [
    "A@u"
   ]
  },
  {
   "cell_type": "markdown",
   "id": "fc0a4cd9",
   "metadata": {},
   "source": [
    "When multiplying A by [1,1,1], we multiply the first, second, and third columns of A by 1 and add the results of each row together. This gives us 1+2+3 in the first row, 4+5+6 in the second row, and 7+8+9 in the third row, which results in [6,15,24]."
   ]
  },
  {
   "cell_type": "markdown",
   "id": "dde75eab",
   "metadata": {},
   "source": [
    "c. Whenever a matrix has 1's on the diagonal and zeros everywhere else, we call it an **identity matrix**. What happens when you multiple $A$ times $x$ below? What happens when you multiple an identity matrix times any vector? Explain your result with the definition of matrix multiplication."
   ]
  },
  {
   "cell_type": "code",
   "execution_count": 26,
   "id": "b0d349c4",
   "metadata": {},
   "outputs": [],
   "source": [
    "A = np.array([ [1,0,0],\n",
    "              [0,1,0],\n",
    "              [0,0,1]])\n",
    "x = np.array([-2,4,11])\n"
   ]
  },
  {
   "cell_type": "code",
   "execution_count": 27,
   "id": "448df8db",
   "metadata": {},
   "outputs": [
    {
     "data": {
      "text/plain": [
       "array([-2,  4, 11])"
      ]
     },
     "execution_count": 27,
     "metadata": {},
     "output_type": "execute_result"
    }
   ],
   "source": [
    "A@x"
   ]
  },
  {
   "cell_type": "markdown",
   "id": "1f930876",
   "metadata": {},
   "source": [
    "When you multiply the identity matrix A by [-2,4,11], we multiply the first column of A by -2, the second column of A by 4, and the third column of A by 11, and add the results of each row. Because the first row of A has a 1 in the first column and 0s in the second and third columns, we get (-2x1) + 0 + 0, and the result of adding these together is -2. The second row of A has a 1 in the second column and 0s in the first and third columns, so we get 0 + (1x4) + 0, and the result of adding these together is 4. The third row of A has 1 in the third column and 0s in the first and second columns, so we get 0 + 0 + (1x11), and the result of adding these together is 11. Thus, our final result is [-2,4,11]."
   ]
  },
  {
   "cell_type": "markdown",
   "id": "57141925",
   "metadata": {},
   "source": [
    "d. What if every row and column sum to 1, but the 1's are no longer on the diagonal? Multiple $A$ times $X$ below and explain the result. Create another matrix whose rows and columns sum to 1, but is not an identity matrix, and show how it permutes the values of $x$. "
   ]
  },
  {
   "cell_type": "code",
   "execution_count": 28,
   "id": "83a9ed11",
   "metadata": {},
   "outputs": [],
   "source": [
    "A = np.array([ [0,0,1],\n",
    "              [1,0,0],\n",
    "              [0,1,0]])\n",
    "x = np.array([-2,4,11])\n"
   ]
  },
  {
   "cell_type": "code",
   "execution_count": 29,
   "id": "3ab7a4a4",
   "metadata": {},
   "outputs": [
    {
     "data": {
      "text/plain": [
       "array([11, -2,  4])"
      ]
     },
     "execution_count": 29,
     "metadata": {},
     "output_type": "execute_result"
    }
   ],
   "source": [
    "A@x"
   ]
  },
  {
   "cell_type": "markdown",
   "id": "6633c867",
   "metadata": {},
   "source": [
    "If every row and column sum to 1, but the 1s are not on the diagonal, the same multiplication principles apply and we see the result is the corresponding value of x that is multiplied by the column that has the 1 in it. In this case, we see that the first row of A has the 1 in the third column, which is multiplied by the third element in x, thus our result for that row (since the other elements are 0) is 11. For the second row, the 1 is in the first column of A, which is multipled by the first element of x, thus our result for the second row (since the other elements are 0) is -2. The last row of A has the 1 in the second column, which is multipled by the second element of x, thus our result for the third row (since the other elements are 0) is 4. Our final result is [11,-2,4]."
   ]
  },
  {
   "cell_type": "code",
   "execution_count": 30,
   "id": "bea771b7",
   "metadata": {},
   "outputs": [
    {
     "data": {
      "text/plain": [
       "array([ 4, 11, -2])"
      ]
     },
     "execution_count": 30,
     "metadata": {},
     "output_type": "execute_result"
    }
   ],
   "source": [
    "A = np.array([[0,1,0],\n",
    "              [0,0,1],\n",
    "              [1,0,0]])\n",
    "x = np.array([-2,4,11])\n",
    "\n",
    "A@x"
   ]
  },
  {
   "cell_type": "markdown",
   "id": "47f1d907",
   "metadata": {},
   "source": [
    "Similar to what we saw before, since each row and column only have one 1 and the rest 0s, we see the result of our matrix multiplication is just the corresponding value of x that is multiplied by the column in the row that has the 1. For the first row of A, the second column has the 1, so the result is the second element of x, which is 4. For the second row of A, the third column has the 1, so the result is the third element of x, which is 11. For the third row of A, the first column has the 1, so the result is the first element of x, which is -2. Thus our final result is [4,11,-2]."
   ]
  },
  {
   "cell_type": "markdown",
   "id": "611c26c3",
   "metadata": {},
   "source": [
    "e. The next matrix $A$ could be a Markov transition matrix: Its columns sum to 1, and each entry $a_{ij}$ can be interpreted as the proportion of observations who moved from state $j$ to state $i$. Multiply $A$ by each of the vectors $e_1$, $e_2$, and $e_3$, and explain your results."
   ]
  },
  {
   "cell_type": "code",
   "execution_count": 31,
   "id": "aff4fb97",
   "metadata": {},
   "outputs": [
    {
     "name": "stdout",
     "output_type": "stream",
     "text": [
      "[[0.50052958 0.24049286 0.18358131]\n",
      " [0.02574731 0.39251588 0.37907577]\n",
      " [0.47372311 0.36699127 0.43734292]]\n"
     ]
    }
   ],
   "source": [
    "rng = np.random.default_rng(100)\n",
    "A = rng.random((3,3)) # Generate a random 3X3 matrix\n",
    "sums = np.sum(A,axis=0) # Column sums\n",
    "A = A/sums # Normalize the columns so they sum to 1\n",
    "print(A)"
   ]
  },
  {
   "cell_type": "code",
   "execution_count": 32,
   "id": "d78994d6",
   "metadata": {},
   "outputs": [
    {
     "data": {
      "text/plain": [
       "array([0.50052958, 0.02574731, 0.47372311])"
      ]
     },
     "execution_count": 32,
     "metadata": {},
     "output_type": "execute_result"
    }
   ],
   "source": [
    "A@e_1"
   ]
  },
  {
   "cell_type": "code",
   "execution_count": 33,
   "id": "8b26f594",
   "metadata": {},
   "outputs": [
    {
     "data": {
      "text/plain": [
       "array([0.24049286, 0.39251588, 0.36699127])"
      ]
     },
     "execution_count": 33,
     "metadata": {},
     "output_type": "execute_result"
    }
   ],
   "source": [
    "A@e_2"
   ]
  },
  {
   "cell_type": "code",
   "execution_count": 34,
   "id": "d4aefbac",
   "metadata": {},
   "outputs": [
    {
     "data": {
      "text/plain": [
       "array([0.18358131, 0.37907577, 0.43734292])"
      ]
     },
     "execution_count": 34,
     "metadata": {},
     "output_type": "execute_result"
    }
   ],
   "source": [
    "A@e_3"
   ]
  },
  {
   "cell_type": "markdown",
   "id": "3ce39028",
   "metadata": {},
   "source": [
    "Similar to the results we saw in part a, when multiplying A by e_1 which is [1,0,0], we multiply the first column of A by 1 (since the 1 is in the first row of e_1), the second column of A by 0, and the third column of A by 0 and add the results of each row. Because the second and third columns of A are multiplied by 0, 0s will be added to each row in the first column of A, which just returns the first column of A. Thus, our final answer is just the first column of A, which is [0.50052958, 0.02574731, 0.47372311]. The same pattern applies for multiplying A and e_2. Since the 1 is in the second row of e_2 and the rest are 0s, our result is going to be the second column of A, which is [0.24049286, 0.39251588, 0.36699127]. Lastly, when multiplying A and e_3, since the 1 is in the third row of e_2 and the rest are 0s, our result is going to be the third column of A, which is [0.18358131, 0.37907577, 0.43734292]."
   ]
  },
  {
   "cell_type": "markdown",
   "id": "0647bfa7",
   "metadata": {},
   "source": [
    "f. For each of the vectors $e_1, e_2, e_3$, multiple $A$ times that vector 5 times. What answer do you get for each starting vector? Describe the behavior you observe."
   ]
  },
  {
   "cell_type": "code",
   "execution_count": 35,
   "id": "5fe21520",
   "metadata": {},
   "outputs": [
    {
     "name": "stdout",
     "output_type": "stream",
     "text": [
      "\n",
      "Vector e_1:\n",
      "A^1 e_1 = [0.50052958 0.02574731 0.47372311]\n",
      "A^2 e_1 = [0.34368862 0.20257047 0.45374091]\n",
      "A^3 e_1 = [0.30404142 0.26036337 0.43559521]\n",
      "A^4 e_1 = [0.29476439 0.27514859 0.43008701]\n",
      "A^5 e_1 = [0.29266551 0.27862515 0.42870935]\n",
      "\n",
      "Vector e_2:\n",
      "A^1 e_2 = [0.24049286 0.39251588 0.36699127]\n",
      "A^2 e_2 = [0.28214379 0.29937825 0.41847795]\n",
      "A^3 e_2 = [0.29004438 0.28341002 0.42654561]\n",
      "A^4 e_2 = [0.29163968 0.2804039  0.42795643]\n",
      "A^5 e_2 = [0.29197422 0.27979983 0.42822595]\n",
      "\n",
      "Vector e_3:\n",
      "A^1 e_3 = [0.18358131 0.37907577 0.43734292]\n",
      "A^2 e_3 = [0.26334088 0.31930609 0.41735304]\n",
      "A^3 e_3 = [0.28521895 0.29032145 0.4244596 ]\n",
      "A^4 e_3 = [0.29050361 0.28220175 0.42729464]\n",
      "A^5 e_3 = [0.29171646 0.2802254  0.42805814]\n"
     ]
    }
   ],
   "source": [
    "for i, e in enumerate([e_1, e_2, e_3], start=1):\n",
    "    v = e.copy()\n",
    "    print(f\"\\nVector e_{i}:\")\n",
    "    for k in range(5):\n",
    "        v = A @ v\n",
    "        print(f\"A^{k+1} e_{i} = {v}\")"
   ]
  },
  {
   "cell_type": "markdown",
   "id": "dbbd67e3",
   "metadata": {},
   "source": [
    "Each vector grows quickly in magnitude, and after a few multiplications, all three vectors become almost proportional to the same vector, aligning with the matrix's principal eigenvector."
   ]
  },
  {
   "cell_type": "markdown",
   "id": "fa2c9a93",
   "metadata": {},
   "source": [
    "*2.* Let's consider a simple Markov transition matrix over two states:\n",
    "$$\n",
    "T = \\left[ \\begin{array}{cc} p_{1\\leftarrow 1} &  p_{1\\leftarrow 2} \\\\\n",
    "p_{2 \\leftarrow 1} & p_{2 \\leftarrow 2} \\end{array}\\right] \n",
    "$$\n",
    "The arrows help visualize the transition a bit: This is the same index notation as usual, $p_{ij}$, but writing it $p_{i \\leftarrow j}$ emphasizes that it's the proportion of times that state $j$ transitions to state $i$. Below, $T$ is given by\n",
    "$$\n",
    "T = \\left[ \\begin{array}{cc} .25 & .5 \\\\\n",
    ".75 & .5 \\end{array}\\right].\n",
    "$$\n",
    "\n",
    "- Start in state 1, at the initial condition $[1,0]$. Multiply that vector by $T$. Write out the result in terms of the formula and compute the result in a code chunk below. What is this object you're looking at, in terms of proportions and transitions?\n",
    "- Multiple by $T$ again. What do you get? This isn't a column of $T$. Explain in words what it is. (Hint: A forecast of what in what period?)\n",
    "- Keep multiplying the current vector of outcomes by $T$. When does it start to settle down without changing further?\n",
    "- Do the above analysis again, starting from the initial condition $[0,1]$. Do you get a different result?\n",
    "- The take-away is that, in the long run, these chains settle down into the long-run proportions, and the sensitivity on initial conditions vanishes. \n"
   ]
  },
  {
   "cell_type": "code",
   "execution_count": 36,
   "id": "4b6a775f",
   "metadata": {},
   "outputs": [],
   "source": [
    "T = np.array([[ 1/4, 1/2],\n",
    "                 [ 3/4, 1/2 ]])"
   ]
  },
  {
   "cell_type": "markdown",
   "id": "1171240b",
   "metadata": {},
   "source": [
    "### 1) Initial Condition"
   ]
  },
  {
   "cell_type": "code",
   "execution_count": 37,
   "id": "4e0a0ac9",
   "metadata": {},
   "outputs": [
    {
     "name": "stdout",
     "output_type": "stream",
     "text": [
      "[1 0]\n"
     ]
    }
   ],
   "source": [
    "init_condition = np.array([1,0])\n",
    "print(init_condition)"
   ]
  },
  {
   "cell_type": "code",
   "execution_count": 38,
   "id": "e04b80b2",
   "metadata": {},
   "outputs": [
    {
     "name": "stdout",
     "output_type": "stream",
     "text": [
      "[0.25 0.75]\n"
     ]
    }
   ],
   "source": [
    "p_1 = T @ init_condition\n",
    "print(p_1)"
   ]
  },
  {
   "cell_type": "markdown",
   "id": "abc8e337",
   "metadata": {},
   "source": [
    "The proportions in states 1 and 2 after one step when starting in state 1 are 0.25 and 0.75 respectively."
   ]
  },
  {
   "cell_type": "markdown",
   "id": "6536f63c",
   "metadata": {},
   "source": [
    "### 2) Multiply by T Again"
   ]
  },
  {
   "cell_type": "code",
   "execution_count": 39,
   "id": "ca63eace",
   "metadata": {},
   "outputs": [
    {
     "name": "stdout",
     "output_type": "stream",
     "text": [
      "[0.4375 0.5625]\n"
     ]
    }
   ],
   "source": [
    "p_2 = T @ p_1\n",
    "print(p_2)"
   ]
  },
  {
   "cell_type": "markdown",
   "id": "1b602fe8",
   "metadata": {},
   "source": [
    "The forecast of the states two periods ahead when starting in state 1 are 0.4375 and 0.5625 respectively."
   ]
  },
  {
   "cell_type": "markdown",
   "id": "e399597c",
   "metadata": {},
   "source": [
    "### 3) Keep Multiplying"
   ]
  },
  {
   "cell_type": "code",
   "execution_count": 40,
   "id": "9bc7c9cf",
   "metadata": {},
   "outputs": [
    {
     "name": "stdout",
     "output_type": "stream",
     "text": [
      "[1 0]\n",
      "[0.25 0.75]\n",
      "[0.4375 0.5625]\n",
      "[0.390625 0.609375]\n",
      "[0.40234375 0.59765625]\n",
      "[0.39941406 0.60058594]\n",
      "[0.40014648 0.59985352]\n",
      "[0.39996338 0.60003662]\n",
      "[0.40000916 0.59999084]\n",
      "[0.39999771 0.60000229]\n",
      "[0.40000057 0.59999943]\n",
      "[0.39999986 0.60000014]\n",
      "[0.40000004 0.59999996]\n",
      "[0.39999999 0.60000001]\n",
      "[0.4 0.6]\n",
      "[0.4 0.6]\n",
      "[0.4 0.6]\n",
      "[0.4 0.6]\n",
      "[0.4 0.6]\n",
      "[0.4 0.6]\n",
      "[0.4 0.6]\n",
      "[0.4 0.6]\n",
      "[0.4 0.6]\n",
      "[0.4 0.6]\n",
      "[0.4 0.6]\n",
      "[0.4 0.6]\n",
      "[0.4 0.6]\n",
      "[0.4 0.6]\n",
      "[0.4 0.6]\n",
      "[0.4 0.6]\n",
      "[0.4 0.6]\n",
      "[0.4 0.6]\n",
      "[0.4 0.6]\n",
      "[0.4 0.6]\n",
      "[0.4 0.6]\n",
      "[0.4 0.6]\n",
      "[0.4 0.6]\n",
      "[0.4 0.6]\n",
      "[0.4 0.6]\n",
      "[0.4 0.6]\n",
      "[0.4 0.6]\n",
      "[0.4 0.6]\n",
      "[0.4 0.6]\n",
      "[0.4 0.6]\n",
      "[0.4 0.6]\n",
      "[0.4 0.6]\n",
      "[0.4 0.6]\n",
      "[0.4 0.6]\n",
      "[0.4 0.6]\n",
      "[0.4 0.6]\n",
      "[0.4 0.6]\n",
      "[0.4 0.6]\n",
      "[0.4 0.6]\n",
      "[0.4 0.6]\n",
      "[0.4 0.6]\n",
      "[0.4 0.6]\n",
      "[0.4 0.6]\n",
      "[0.4 0.6]\n",
      "[0.4 0.6]\n",
      "[0.4 0.6]\n",
      "[0.4 0.6]\n",
      "[0.4 0.6]\n",
      "[0.4 0.6]\n",
      "[0.4 0.6]\n",
      "[0.4 0.6]\n",
      "[0.4 0.6]\n",
      "[0.4 0.6]\n",
      "[0.4 0.6]\n",
      "[0.4 0.6]\n",
      "[0.4 0.6]\n",
      "[0.4 0.6]\n",
      "[0.4 0.6]\n",
      "[0.4 0.6]\n",
      "[0.4 0.6]\n",
      "[0.4 0.6]\n",
      "[0.4 0.6]\n",
      "[0.4 0.6]\n",
      "[0.4 0.6]\n",
      "[0.4 0.6]\n",
      "[0.4 0.6]\n",
      "[0.4 0.6]\n",
      "[0.4 0.6]\n",
      "[0.4 0.6]\n",
      "[0.4 0.6]\n",
      "[0.4 0.6]\n",
      "[0.4 0.6]\n",
      "[0.4 0.6]\n",
      "[0.4 0.6]\n",
      "[0.4 0.6]\n",
      "[0.4 0.6]\n",
      "[0.4 0.6]\n",
      "[0.4 0.6]\n",
      "[0.4 0.6]\n",
      "[0.4 0.6]\n",
      "[0.4 0.6]\n",
      "[0.4 0.6]\n",
      "[0.4 0.6]\n",
      "[0.4 0.6]\n",
      "[0.4 0.6]\n",
      "[0.4 0.6]\n"
     ]
    }
   ],
   "source": [
    "n = 100\n",
    "p = np.array([1,0])\n",
    "for t in range(n):\n",
    "    print(p)\n",
    "    p = T @ p"
   ]
  },
  {
   "cell_type": "markdown",
   "id": "adb4b0f8",
   "metadata": {},
   "source": [
    "The forecast settles down around 0.4 and 0.6  after only a few iterations."
   ]
  },
  {
   "cell_type": "markdown",
   "id": "d216f992",
   "metadata": {},
   "source": [
    "### 4) Start From Different Initial Condition"
   ]
  },
  {
   "cell_type": "code",
   "execution_count": null,
   "id": "935b022d",
   "metadata": {},
   "outputs": [],
   "source": [
    "n = 100\n",
    "p = np.array([0,1])\n",
    "for t in range(n):\n",
    "    print(p)\n",
    "    p = T @ p"
   ]
  },
  {
   "cell_type": "markdown",
   "id": "98dd06b6",
   "metadata": {},
   "source": [
    "The forecast settles down again at 0.4 and 0.6 even when starting from the initial condition [0,1], so the long-run proportions are independent of the initial condition."
   ]
  },
  {
   "cell_type": "markdown",
   "id": "921592e9",
   "metadata": {},
   "source": [
    "3. Weather data\n",
    "\n",
    "- Load the `cville_weather.csv` data. This includes data from Jan 4, 2024 to Feb 2, 2025. Are there any missing data issues?\n",
    "- Based on the precipitation variable, `PRCP`, make a new variable called `rain` that takes the value 1 if `PRCP`>0 and 0 otherwise.\n",
    "- Build a two-state Markov chain over the states 0 and 1 for the `rain` variable. \n",
    "- For your chain from c, how likely is it to rain if it was rainy yesterday? How likely is it to rain if it was clear yesterday?\n",
    "- Starting from a clear day, forecast the distribution. How quickly does it converge to a fixed result? What if you start from a rainy day?\n",
    "- Conditional on being rainy, plot a KDE of the `PRCP` variable.\n",
    "- Describe one way of making your model better for forecasting and simulation the weather.\n",
    "\n",
    "Congratulations, you now are a non-parametric meteorologist!"
   ]
  },
  {
   "cell_type": "code",
   "execution_count": null,
   "id": "4876a3cd",
   "metadata": {},
   "outputs": [],
   "source": [
    "import pandas as pd\n",
    "import numpy as np\n",
    "\n",
    "#change the path below for this to work on your local machine\n",
    "\n",
    "weather = pd.read_csv('/Users/erinsiedlecki/assignment_5/cville_weather.csv', low_memory=False)"
   ]
  },
  {
   "cell_type": "code",
   "execution_count": 3,
   "id": "8bc7d812",
   "metadata": {},
   "outputs": [
    {
     "data": {
      "text/plain": [
       "STATION              0\n",
       "NAME                 0\n",
       "DATE                 0\n",
       "DAPR               399\n",
       "DAPR_ATTRIBUTES    399\n",
       "MDPR               399\n",
       "MDPR_ATTRIBUTES    399\n",
       "PRCP                12\n",
       "PRCP_ATTRIBUTES     12\n",
       "SNOW               188\n",
       "SNOW_ATTRIBUTES    188\n",
       "SNWD               410\n",
       "SNWD_ATTRIBUTES    410\n",
       "dtype: int64"
      ]
     },
     "execution_count": 3,
     "metadata": {},
     "output_type": "execute_result"
    }
   ],
   "source": [
    "weather.isna().sum()"
   ]
  },
  {
   "cell_type": "markdown",
   "id": "67502e7c",
   "metadata": {},
   "source": [
    "Yes, there are missing data issues. There are a significant amount of NaNs present in the data."
   ]
  },
  {
   "cell_type": "code",
   "execution_count": 4,
   "id": "0d676301",
   "metadata": {},
   "outputs": [],
   "source": [
    "weather['rain'] = (weather['PRCP'] > 0).astype(int)"
   ]
  },
  {
   "cell_type": "code",
   "execution_count": 7,
   "id": "cd3b2956",
   "metadata": {},
   "outputs": [
    {
     "data": {
      "text/plain": [
       "array([['P00', 'P01'],\n",
       "       ['P10', 'P11']], dtype='<U3')"
      ]
     },
     "execution_count": 7,
     "metadata": {},
     "output_type": "execute_result"
    }
   ],
   "source": [
    "T = np.array([['P00', 'P01'],\n",
    "['P10', 'P11']])\n",
    "T"
   ]
  },
  {
   "cell_type": "code",
   "execution_count": 8,
   "id": "05f53f0a",
   "metadata": {},
   "outputs": [],
   "source": [
    "rain = weather['rain']\n",
    "\n",
    "rains = np.zeros((2, 2))\n",
    "\n",
    "for (a,b) in zip(rain[:-1], rain[1:]):\n",
    "    rains[int(a), int(b)] += 1\n",
    "\n",
    "T = rains / rains.sum(axis=1, keepdims=True)"
   ]
  },
  {
   "cell_type": "code",
   "execution_count": 9,
   "id": "6b0a73ef",
   "metadata": {},
   "outputs": [
    {
     "data": {
      "text/plain": [
       "array([[0.73160173, 0.26839827],\n",
       "       [0.35195531, 0.64804469]])"
      ]
     },
     "execution_count": 9,
     "metadata": {},
     "output_type": "execute_result"
    }
   ],
   "source": [
    "T"
   ]
  },
  {
   "cell_type": "markdown",
   "id": "f07046b4",
   "metadata": {},
   "source": [
    "If it was rainy yesterday, the probability that it is raining today is 0.64804469. If it was clear yesterday, the probability that it will be rainy today is 0.26839827."
   ]
  },
  {
   "cell_type": "code",
   "execution_count": 10,
   "id": "8bf942ce",
   "metadata": {},
   "outputs": [
    {
     "name": "stdout",
     "output_type": "stream",
     "text": [
      "[0 1]\n",
      "[0.35195531 0.64804469]\n",
      "[0.48557388 0.51442612]\n",
      "[0.5363017 0.4636983]\n",
      "[0.55556033 0.44443967]\n",
      "[0.5628718 0.4371282]\n",
      "[0.56564757 0.43435243]\n",
      "[0.56670139 0.43329861]\n",
      "[0.56710146 0.43289854]\n",
      "[0.56725335 0.43274665]\n",
      "[0.56731101 0.43268899]\n",
      "[0.5673329 0.4326671]\n",
      "[0.56734122 0.43265878]\n",
      "[0.56734437 0.43265563]\n",
      "[0.56734557 0.43265443]\n",
      "[0.56734602 0.43265398]\n",
      "[0.5673462 0.4326538]\n",
      "[0.56734626 0.43265374]\n",
      "[0.56734629 0.43265371]\n",
      "[0.5673463 0.4326537]\n",
      "[0.5673463 0.4326537]\n",
      "[0.5673463 0.4326537]\n",
      "[0.5673463 0.4326537]\n",
      "[0.5673463 0.4326537]\n",
      "[0.5673463 0.4326537]\n",
      "[0.5673463 0.4326537]\n",
      "[0.5673463 0.4326537]\n",
      "[0.5673463 0.4326537]\n",
      "[0.5673463 0.4326537]\n",
      "[0.5673463 0.4326537]\n",
      "[0.5673463 0.4326537]\n",
      "[0.5673463 0.4326537]\n",
      "[0.5673463 0.4326537]\n",
      "[0.5673463 0.4326537]\n",
      "[0.5673463 0.4326537]\n",
      "[0.5673463 0.4326537]\n",
      "[0.5673463 0.4326537]\n",
      "[0.5673463 0.4326537]\n",
      "[0.5673463 0.4326537]\n",
      "[0.5673463 0.4326537]\n",
      "[0.5673463 0.4326537]\n",
      "[0.5673463 0.4326537]\n",
      "[0.5673463 0.4326537]\n",
      "[0.5673463 0.4326537]\n",
      "[0.5673463 0.4326537]\n",
      "[0.5673463 0.4326537]\n",
      "[0.5673463 0.4326537]\n",
      "[0.5673463 0.4326537]\n",
      "[0.5673463 0.4326537]\n",
      "[0.5673463 0.4326537]\n",
      "[0.5673463 0.4326537]\n",
      "[0.5673463 0.4326537]\n",
      "[0.5673463 0.4326537]\n",
      "[0.5673463 0.4326537]\n",
      "[0.5673463 0.4326537]\n",
      "[0.5673463 0.4326537]\n",
      "[0.5673463 0.4326537]\n",
      "[0.5673463 0.4326537]\n",
      "[0.5673463 0.4326537]\n",
      "[0.5673463 0.4326537]\n",
      "[0.5673463 0.4326537]\n",
      "[0.5673463 0.4326537]\n",
      "[0.5673463 0.4326537]\n",
      "[0.5673463 0.4326537]\n",
      "[0.5673463 0.4326537]\n",
      "[0.5673463 0.4326537]\n",
      "[0.5673463 0.4326537]\n",
      "[0.5673463 0.4326537]\n",
      "[0.5673463 0.4326537]\n",
      "[0.5673463 0.4326537]\n",
      "[0.5673463 0.4326537]\n",
      "[0.5673463 0.4326537]\n",
      "[0.5673463 0.4326537]\n",
      "[0.5673463 0.4326537]\n",
      "[0.5673463 0.4326537]\n",
      "[0.5673463 0.4326537]\n",
      "[0.5673463 0.4326537]\n",
      "[0.5673463 0.4326537]\n",
      "[0.5673463 0.4326537]\n",
      "[0.5673463 0.4326537]\n",
      "[0.5673463 0.4326537]\n",
      "[0.5673463 0.4326537]\n",
      "[0.5673463 0.4326537]\n",
      "[0.5673463 0.4326537]\n",
      "[0.5673463 0.4326537]\n",
      "[0.5673463 0.4326537]\n",
      "[0.5673463 0.4326537]\n",
      "[0.5673463 0.4326537]\n",
      "[0.5673463 0.4326537]\n",
      "[0.5673463 0.4326537]\n",
      "[0.5673463 0.4326537]\n",
      "[0.5673463 0.4326537]\n",
      "[0.5673463 0.4326537]\n",
      "[0.5673463 0.4326537]\n",
      "[0.5673463 0.4326537]\n",
      "[0.5673463 0.4326537]\n",
      "[0.5673463 0.4326537]\n",
      "[0.5673463 0.4326537]\n",
      "[0.5673463 0.4326537]\n",
      "[0.5673463 0.4326537]\n"
     ]
    }
   ],
   "source": [
    "# Starting from a clear day, forecast the distribution.\n",
    "\n",
    "n = 100\n",
    "p = np.array([0,1])\n",
    "for t in range(n):\n",
    "    print(p)\n",
    "    p = p @ T"
   ]
  },
  {
   "cell_type": "code",
   "execution_count": 11,
   "id": "f35912ed",
   "metadata": {},
   "outputs": [
    {
     "name": "stdout",
     "output_type": "stream",
     "text": [
      "[1 0]\n",
      "[0.73160173 0.26839827]\n",
      "[0.62970529 0.37029471]\n",
      "[0.59102067 0.40897933]\n",
      "[0.57633419 0.42366581]\n",
      "[0.57075852 0.42924148]\n",
      "[0.56864174 0.43135826]\n",
      "[0.56783811 0.43216189]\n",
      "[0.56753302 0.43246698]\n",
      "[0.56741719 0.43258281]\n",
      "[0.56737321 0.43262679]\n",
      "[0.56735652 0.43264348]\n",
      "[0.56735018 0.43264982]\n",
      "[0.56734777 0.43265223]\n",
      "[0.56734686 0.43265314]\n",
      "[0.56734651 0.43265349]\n",
      "[0.56734638 0.43265362]\n",
      "[0.56734633 0.43265367]\n",
      "[0.56734631 0.43265369]\n",
      "[0.56734631 0.43265369]\n",
      "[0.5673463 0.4326537]\n",
      "[0.5673463 0.4326537]\n",
      "[0.5673463 0.4326537]\n",
      "[0.5673463 0.4326537]\n",
      "[0.5673463 0.4326537]\n",
      "[0.5673463 0.4326537]\n",
      "[0.5673463 0.4326537]\n",
      "[0.5673463 0.4326537]\n",
      "[0.5673463 0.4326537]\n",
      "[0.5673463 0.4326537]\n",
      "[0.5673463 0.4326537]\n",
      "[0.5673463 0.4326537]\n",
      "[0.5673463 0.4326537]\n",
      "[0.5673463 0.4326537]\n",
      "[0.5673463 0.4326537]\n",
      "[0.5673463 0.4326537]\n",
      "[0.5673463 0.4326537]\n",
      "[0.5673463 0.4326537]\n",
      "[0.5673463 0.4326537]\n",
      "[0.5673463 0.4326537]\n",
      "[0.5673463 0.4326537]\n",
      "[0.5673463 0.4326537]\n",
      "[0.5673463 0.4326537]\n",
      "[0.5673463 0.4326537]\n",
      "[0.5673463 0.4326537]\n",
      "[0.5673463 0.4326537]\n",
      "[0.5673463 0.4326537]\n",
      "[0.5673463 0.4326537]\n",
      "[0.5673463 0.4326537]\n",
      "[0.5673463 0.4326537]\n",
      "[0.5673463 0.4326537]\n",
      "[0.5673463 0.4326537]\n",
      "[0.5673463 0.4326537]\n",
      "[0.5673463 0.4326537]\n",
      "[0.5673463 0.4326537]\n",
      "[0.5673463 0.4326537]\n",
      "[0.5673463 0.4326537]\n",
      "[0.5673463 0.4326537]\n",
      "[0.5673463 0.4326537]\n",
      "[0.5673463 0.4326537]\n",
      "[0.5673463 0.4326537]\n",
      "[0.5673463 0.4326537]\n",
      "[0.5673463 0.4326537]\n",
      "[0.5673463 0.4326537]\n",
      "[0.5673463 0.4326537]\n",
      "[0.5673463 0.4326537]\n",
      "[0.5673463 0.4326537]\n",
      "[0.5673463 0.4326537]\n",
      "[0.5673463 0.4326537]\n",
      "[0.5673463 0.4326537]\n",
      "[0.5673463 0.4326537]\n",
      "[0.5673463 0.4326537]\n",
      "[0.5673463 0.4326537]\n",
      "[0.5673463 0.4326537]\n",
      "[0.5673463 0.4326537]\n",
      "[0.5673463 0.4326537]\n",
      "[0.5673463 0.4326537]\n",
      "[0.5673463 0.4326537]\n",
      "[0.5673463 0.4326537]\n",
      "[0.5673463 0.4326537]\n",
      "[0.5673463 0.4326537]\n",
      "[0.5673463 0.4326537]\n",
      "[0.5673463 0.4326537]\n",
      "[0.5673463 0.4326537]\n",
      "[0.5673463 0.4326537]\n",
      "[0.5673463 0.4326537]\n",
      "[0.5673463 0.4326537]\n",
      "[0.5673463 0.4326537]\n",
      "[0.5673463 0.4326537]\n",
      "[0.5673463 0.4326537]\n",
      "[0.5673463 0.4326537]\n",
      "[0.5673463 0.4326537]\n",
      "[0.5673463 0.4326537]\n",
      "[0.5673463 0.4326537]\n",
      "[0.5673463 0.4326537]\n",
      "[0.5673463 0.4326537]\n",
      "[0.5673463 0.4326537]\n",
      "[0.5673463 0.4326537]\n",
      "[0.5673463 0.4326537]\n",
      "[0.5673463 0.4326537]\n"
     ]
    }
   ],
   "source": [
    "# Starting from a rainy day, forecast the distribution.\n",
    "n = 100\n",
    "p = np.array([1,0])\n",
    "for t in range(n):\n",
    "    print(p)\n",
    "    p = p @ T"
   ]
  },
  {
   "cell_type": "markdown",
   "id": "bf5bcd0d",
   "metadata": {},
   "source": [
    "These converge quickly (after about 20 iterations)."
   ]
  },
  {
   "cell_type": "code",
   "execution_count": 12,
   "id": "50abbb19",
   "metadata": {},
   "outputs": [],
   "source": [
    "import matplotlib.pyplot as plt"
   ]
  },
  {
   "cell_type": "code",
   "execution_count": 14,
   "id": "d7e89f2c",
   "metadata": {},
   "outputs": [
    {
     "data": {
      "image/png": "[encoded data removed]",
      "text/plain": [
       "<Figure size 640x480 with 1 Axes>"
      ]
     },
     "metadata": {},
     "output_type": "display_data"
    }
   ],
   "source": [
    "# Conditional on being rainy, plot a KDE of the `PRCP` variable.\n",
    "\n",
    "rainy_days = weather[weather['rain'] == 1]\n",
    "rainy_days['PRCP'].plot.kde()\n",
    "plt.xlabel(\"Precipitation (PRCP)\")\n",
    "plt.show()"
   ]
  },
  {
   "cell_type": "markdown",
   "id": "38d37dbb",
   "metadata": {},
   "source": [
    "To make our model better for forecasting and simulating the weather, we could increase the number of iterations (e.g. 100,000).\n"
   ]
  },
  {
   "cell_type": "markdown",
   "id": "b953c2c4",
   "metadata": {},
   "source": [
    "4. Taxicab trajectories: Using the pickled taxicab data, we want to complete the exercise from class.\n",
    "\n",
    "- For the taxicab trajectory data, determine your state space and clean your sequences of cab rides.\n",
    "- Compute the transition matrix for the taxicab data between neighborhoods in Manhattan. Plot it in a heat map. What are the most common routes?\n",
    "- Explain why taxicabs are most likely order 1, and not 2 or more.\n",
    "- Starting at Hell's Kitchen, create a sequence of forecasts of where the cab is likely to be in 2, 3, 5, and 10 trips\n",
    "- Starting at any neighborhood, iterate your forecast until it is no longer changing very much. Where do cabs spend most of their time working in Manhattan?"
   ]
  }
 ],
 "metadata": {
  "kernelspec": {
   "display_name": "pr_class",
   "language": "python",
   "name": "python3"
  },
  "language_info": {
   "codemirror_mode": {
    "name": "ipython",
    "version": 3
   },
   "file_extension": ".py",
   "mimetype": "text/x-python",
   "name": "python",
   "nbconvert_exporter": "python",
   "pygments_lexer": "ipython3",
   "version": "3.13.5"
  }
 },
 "nbformat": 4,
 "nbformat_minor": 5
}
